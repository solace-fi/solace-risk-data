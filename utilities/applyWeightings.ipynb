{
 "cells": [
  {
   "cell_type": "markdown",
   "metadata": {},
   "source": [
    "### Scratch pad for applying weightings to the data \n",
    "todo: add weighting entries per number of ej submitters "
   ]
  },
  {
   "cell_type": "code",
   "execution_count": null,
   "metadata": {},
   "outputs": [],
   "source": [
    "import pandas as pd\n",
    "import os\n",
    "from os.path import join, getsize\n",
    "\n",
    "ejMe = pd.DataFrame()\n",
    "li = [[]]\n",
    "for root, dirs, files in os.walk('../governance/expert-judgement/'):\n",
    "    for name in files:\n",
    "        #print(name)\n",
    "        if name.startswith('ejAuditDataValues'):\n",
    "            ejs = open(root + '/' + name, 'r')\n",
    "            ejHolder = json.loads(ejs.read())\n",
    "            li[0].append(ejHolder['damageRatio']['0'])        \n",
    "            ejs.close()\n",
    "\n",
    "\n",
    "output = open('../governance/outputs/auditDataValues.json', 'r')\n",
    "outputHolder = json.loads(output.read())\n",
    "li[0].append(outputHolder['damageRatio']['0'])        \n",
    "f.close()\n",
    "product = 1\n",
    "for item in li[0]:\n",
    "\tproduct = product * item\n",
    "print(product)\n",
    "print(li)"
   ]
  }
 ],
 "metadata": {
  "language_info": {
   "name": "python"
  },
  "orig_nbformat": 4
 },
 "nbformat": 4,
 "nbformat_minor": 2
}
